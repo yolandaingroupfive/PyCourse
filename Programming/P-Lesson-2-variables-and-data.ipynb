{
 "cells": [
  {
   "cell_type": "markdown",
   "metadata": {},
   "source": [
    "# P-Lesson-2: Variables and Data\n",
    "\n",
    "## Think\n",
    "\n",
    "* 為什麼需要使用變數?\n",
    "* 變數跟資料的關係是什麼
    "\n",
    "## Outline\n",
    "\n",
    "* 變數與資料\n",
    "* 資料的種類"
   ]
  },
  {
   "cell_type": "markdown",
   "metadata": {},
   "source": [
    "## 變數與資料\n",
    "\n",
    "### 資料是運算的主體"
   ]
  },
  {
   "cell_type": "code",
   "execution_count": 2,
   "metadata": {
    "collapsed": false
   },
   "outputs": [
    {
     "name": "stdout",
     "output_type": "stream",
     "text": [
      "10\n"
     ]
    }
   ],
   "source": [
    "print(5+5)"
   ]
  },
  {
   "cell_type": "markdown",
   "metadata": {},
   "source": [
    "### 字面常值是一個用來製造常值資料的符號"
   ]
  },
  {
   "cell_type": "code",
   "execution_count": 1,
   "metadata": {
    "collapsed": false
   },
   "outputs": [
    {
     "name": "stdout",
     "output_type": "stream",
     "text": [
      "5\n",
      "1.6\n",
      "hello\n",
      "[1, 2, 3]\n",
      "(4, 5)\n",
      "{'city': 'Taipei', 'name': 'dokelung'}\n"
     ]
    }
   ],
   "source": [
    "# literals \n",
    "print(5)\n",
    "print(1.6)\n",
    "print('hello')\n",
    "print([1, 2, 3])\n",
    "print((4, 5))\n",
    "print({'name': 'dokelung', 'city': 'Taipei'})"
   ]
  },
  {
   "cell_type": "markdown",
   "metadata": {},
   "source": [
    "#### 當寫出 literal 的時候，Python 做了什麼事情呢？\n",
    "\n",
    "### 變數是一個用來參照資料的符號\n",
    "\n",
    "* 在 Python 中\n",
    " * 變數不用宣告，但要使用 = 定義\n",
    " * 變數沒有型態，但變數參照的資料有型態\n",
    "* 變數的命名有其規則與慣例, 規則必得遵守, 慣例最好依循, 違反規則會出現 `SyntaxError`, 違反慣例會導致程式的缺陷\n",
    " * 命名規則\n",
    "   * Rule 1: 開頭字符必得是底線或是字母\n",
    "   * Rule 2: 後續字符可以是底線, 字母或數字\n",
    "   * Rule 3: 大小寫有別(`A` 跟 `a`, `Max` 跟 `MAX`都是不同的)\n",
    "   * Rule 4: 識別字不可跟關鍵字相同\n",
    " * 命名慣例\n",
    "   * 一般變數全小寫，連字以底線分開: `total_count`\n",
    "   * 常數全大寫: `MAX_COUNT`\n",
    "   * [PEP_8 Style Guide for Python Code](http://wiki.jiayun.org/PEP_8_--_Style_Guide_for_Python_Code)\n"
   ]
  },
  {
   "cell_type": "code",
   "execution_count": 13,
   "metadata": {
    "collapsed": false
   },
   "outputs": [
    {
     "name": "stdout",
     "output_type": "stream",
     "text": [
      "10 <class 'str'>\n",
      "10 True False\n",
      "10 <class 'int'>\n",
      "10.0 <class 'float'>\n"
     ]
    }
   ],
   "source": [
    "# define a variable and initialize it\n",
    "a = 5\n",
    "\n",
    "# change the data it refers to\n",
    "a = 8.7\n",
    "\n",
    "# check type of the data it refers to\n",
    "ten = '10'\n",
    "print(ten, type(ten))\n",
    "print(ten, isinstance(ten, str), isinstance(ten, int))\n",
    "\n",
    "# type cast\n",
    "int_ten = int(ten)\n",
    "print(int_ten, type(int_ten))\n",
    "float_ten = float(int_ten)\n",
    "print(float_ten, type(float_ten))"
   ]
  },
  {
   "cell_type": "markdown",
   "metadata": {},
   "source": [
    "### 變數的用途\n",
    "\n",
    "* 儲存運算的結果\n",
    "* 減少資源的使用\n",
    "* 以簡單代替複雜\n",
    "* 作為參考點以進行參數化"
   ]
  },
  {
   "cell_type": "code",
   "execution_count": 7,
   "metadata": {
    "collapsed": false
   },
   "outputs": [
    {
     "name": "stdout",
     "output_type": "stream",
     "text": [
      "-3 -3 True\n",
      "-3 -3 True\n"
     ]
    }
   ],
   "source": [
    "# (a+b)(a-b) = a^2 - b^2\n",
    "print((1+2)*(1-2), 1*1 - 2*2, (1+2)*(1-2)==1*1 - 2*2)\n",
    "\n",
    "# (a+b)(a-b) = a^2 - b^2\n",
    "a = 1\n",
    "b = 2\n",
    "left =(a+b)*(a-b)\n",
    "right = a*a - b*b\n",
    "print(left, right, left==right)"
   ]
  },
  {
   "cell_type": "markdown",
   "metadata": {},
   "source": [
    "### 小結\n",
    "* 資料可以利用變數來參照也可以用字面來代表\n",
    "* 其實程式就只是一堆符號的組成"
   ]
  },
  {
   "cell_type": "markdown",
   "metadata": {},
   "source": [
    "## 資料的種類\n",
    "\n",
    "* 常見的資料類型\n",
    " * 數值 (integer, float, complex)\n",
    "   * 進位問題\n",
    "   * 精確度\n",
    " * 布林 (boolean)\n",
    "   * 短路邏輯\n",
    " * 字串 (string)\n",
    " * 群集 (tuple, list, dictionary, set)\n",
    " * 物件 (object)\n",
    " \n",
    "### 整數與浮點數"
   ]
  },
  {
   "cell_type": "code",
   "execution_count": 22,
   "metadata": {
    "collapsed": false
   },
   "outputs": [
    {
     "name": "stdout",
     "output_type": "stream",
     "text": [
      "== integer ==\n",
      "1.3333333333333333\n",
      "1\n",
      "1\n",
      "8\n",
      "5\n",
      "0b1010 0o12 10 0xa\n",
      "1\n",
      "== float ==\n",
      "6.2\n",
      "5.0\n",
      "4.33\n",
      "1.0\n",
      "2\n",
      "1\n",
      "3.141592653589793\n",
      "True\n"
     ]
    }
   ],
   "source": [
    "# int\n",
    "print('== integer ==')\n",
    "print(4/3) # 顯示了浮點數的不精確\n",
    "print(4//3) # 整除\n",
    "print(3%2) # 取餘數\n",
    "print(2**3) # power\n",
    "print(abs(-5)) # 絕對值\n",
    "print(bin(10), oct(10), 10, hex(10)) # 各種進位\n",
    "print(int(1.0))\n",
    "\n",
    "# float\n",
    "print('== float ==')\n",
    "print(3+3.2)\n",
    "print(5*1.0)\n",
    "print(round(4.335, 2)) # 四捨五入\n",
    "print(float(1))\n",
    "import math\n",
    "print(math.ceil(1.234))\n",
    "print(math.floor(1.234))\n",
    "print(math.pi)\n",
    "\n",
    "# 補充: float的相等\n",
    "import sys\n",
    "def equal(a, b):\n",
    "    return abs(a-b) <= sys.float_info.epsilon\n",
    "print(equal(1.333333333333333333, 1.333333333333333334))"
   ]
  },
  {
   "cell_type": "markdown",
   "metadata": {},
   "source": [
    "###  布林(真假)\n",
    "\n",
    "* 布林語境\n",
    "* 短路邏輯"
   ]
  },
  {
   "cell_type": "code",
   "execution_count": 28,
   "metadata": {
    "collapsed": false
   },
   "outputs": [
    {
     "name": "stdout",
     "output_type": "stream",
     "text": [
      "== basic ==\n",
      "True\n",
      "False\n",
      "True\n",
      "== boolean context ==\n",
      "False\n",
      "False True True\n",
      "False True True\n",
      "False True\n",
      "== short circuit logic ==\n",
      "True\n",
      "False\n"
     ]
    }
   ],
   "source": [
    "# boolean\n",
    "print('== basic ==')\n",
    "print(True or False)\n",
    "print(False and True)\n",
    "print(not False)\n",
    "\n",
    "# boolean context\n",
    "print('== boolean context ==')\n",
    "print(bool(None))\n",
    "print(bool(0), bool(-1), bool(3))\n",
    "print(bool(0.0), bool(-1.3), bool(2.5))\n",
    "print(bool([]), bool([1, 2, 3]))\n",
    "\n",
    "# short circuit logic\n",
    "print('== short circuit logic ==')\n",
    "print(True or 1/0)\n",
    "print(False and 1/0)"
   ]
  },
  {
   "cell_type": "markdown",
   "metadata": {},
   "source": [
    "## 練習\n",
    "\n",
    "1. 寫一個程式可以進行攝氏轉華氏 `F = 9/5 * C + 32`\n",
    "2. 寫一個程式可以進行華氏轉攝氏 `C = (F - 32) * 5/9`\n",
    "3. 寫一個程式可以計算乘法公式 `(a+b)^2` 和 `(a-b)^2`\n"
   ]
  }
 ],
 "metadata": {
  "kernelspec": {
   "display_name": "Python 3",
   "language": "python",
   "name": "python3"
  },
  "language_info": {
   "codemirror_mode": {
    "name": "ipython",
    "version": 3
   },
   "file_extension": ".py",
   "mimetype": "text/x-python",
   "name": "python",
   "nbconvert_exporter": "python",
   "pygments_lexer": "ipython3",
   "version": "3.5.1"
  }
 },
 "nbformat": 4,
 "nbformat_minor": 1
}
